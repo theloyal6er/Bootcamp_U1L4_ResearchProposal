{
 "cells": [
  {
   "cell_type": "markdown",
   "metadata": {},
   "source": [
    "The Sith Lords are concerned that their recruiting slogan, \"Give In to Your Anger,\" isn't very effective. Darth Vader develops an alternative slogan, \"Together We Can Rule the Galaxy.\" They compare the slogans on two groups of 50 captured droids each. In one group, Emperor Palpatine delivers the \"Anger\" slogan. In the other, Darth Vader presents the \"Together\" slogan. 20 droids convert to the Dark Side after hearing Palpatine's slogan, while only 5 droids convert after hearing Vader's. The Sith's data scientist concludes that \"Anger\" is a more effective slogan and should continue to be used.\n",
    "\n",
    "RESEARCH PROPOSAL\n",
    "\n",
    "Problem: \n",
    "\n",
    "**What type of slogan, delivered by who, would be most effective in recruiting droids to the Sith Lord?**\n",
    "\n",
    "The Sith Lords realize that the current slogan isn't very effective in their ability to recruit droids and they are considering a new slogan to supplement their recruitment efforts. We know that already the nature of the Sith Lord's intentions are inherently evil so words or phrases that trigger their cause should be in the scope of that. But it is also important to understand that droids itself might have bad intentions to begin with as well so the tone of the slogan that the droids may respond to more effectively might be more in line with an evil/angry/hostile tone than anything else. \n",
    "\n",
    "It would be also interesting to understand the tone of the two people who respectively addressed these slogans - do the droids respond differently to Darth Vader versus Emperor Palpatine? Does one leader impose a different authority in the delivery of the slogan than the other and does it pose itself as more influential? Exposing the bias here would be interesting to understand.\n",
    "\n",
    "Potential Solution:\n",
    "\n",
    "To understand this test, I would be keen to understand how each type of slogan is delivered by Dark Vader and Emperor Palpatine. Because Palpatine is the master (whereas Vader is the apprentice in their relationship between the two) they may have an initial bias to start with when they start talking to each other. Consequently, I would be keen to understand both types of these slogans - one that has an \"anger\" tone to it or a \"unified\" tone and conduct A/B testing between the both of them.\n",
    "\n",
    "Method of Solution:\n",
    "\n",
    "You can split the groups into four smaller sample groups, all of which are similar in their population pool and have each leader take on each separate quote (in this first case, the \"anger\"-slogan) to test against the first two sample groups. After you can do the same type of test for the other quote (\"unified\"-slogan) and see how it effectively converts droids to the dark side after. This is effective because you can then isolate the type of quote by each leader and compare all four scenarios to prove which is the most effective (to least) in the type of effectiveness it provides.\n",
    "\n",
    "I would be keen to understand how the reaction of the droids panned itself to each quote and seeing whether what was more effective - the slogan or the delivery itself. You may also be interested in organizing two other focus groups with a neutral leader to remove any bias against the person speaking to truly understand the depth of effectiveness in the quotations itself. If the results end up being neutral, it may be interesting to understand whether an \"angry\" or \"unified\" tone at all is effective to begin with and if a different theme is necessary. Since many of the droids are mostly similar to one another there isn't much fear to understand if there's bias between them - only if the actual delivery of the quote and the theme of the slogan itself. If there are supplemental words added after in each slogan's delivery I would be keen to understand this as this might affect the overall receiving of the conversions itself.\n",
    "\n"
   ]
  },
  {
   "cell_type": "code",
   "execution_count": null,
   "metadata": {},
   "outputs": [],
   "source": []
  }
 ],
 "metadata": {
  "kernelspec": {
   "display_name": "Python 3",
   "language": "python",
   "name": "python3"
  },
  "language_info": {
   "codemirror_mode": {
    "name": "ipython",
    "version": 3
   },
   "file_extension": ".py",
   "mimetype": "text/x-python",
   "name": "python",
   "nbconvert_exporter": "python",
   "pygments_lexer": "ipython3",
   "version": "3.7.0"
  }
 },
 "nbformat": 4,
 "nbformat_minor": 2
}
